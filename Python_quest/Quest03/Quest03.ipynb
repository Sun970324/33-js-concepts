{
  "nbformat": 4,
  "nbformat_minor": 0,
  "metadata": {
    "colab": {
      "provenance": [],
      "private_outputs": true,
      "include_colab_link": true
    },
    "kernelspec": {
      "name": "python3",
      "display_name": "Python 3"
    },
    "language_info": {
      "name": "python"
    }
  },
  "cells": [
    {
      "cell_type": "markdown",
      "metadata": {
        "id": "view-in-github",
        "colab_type": "text"
      },
      "source": [
        "<a href=\"https://colab.research.google.com/github/Sun970324/33-js-concepts/blob/master/Python_quest/Quest03/Quest03.ipynb\" target=\"_parent\"><img src=\"https://colab.research.google.com/assets/colab-badge.svg\" alt=\"Open In Colab\"/></a>"
      ]
    },
    {
      "cell_type": "code",
      "source": [
        "def find_min_max(numbers):\n",
        "    min_value = float('inf') # 가장 큰 값을 임의로 할당\n",
        "    max_value = float('-inf') # 가장 작은 값을 임의로 할당\n",
        "\n",
        "    def update_min_max(num):\n",
        "        nonlocal min_value, max_value # 위에 선언한 변수들을 참조\n",
        "        # num의 값이 현재 min_value보다 작다면 min_value에 num의 값을 할당\n",
        "        if num < min_value:\n",
        "          min_value = num\n",
        "        # num의 값이 현재 max_value보다 크다면 max_value에 num의 값을 할당\n",
        "        if num > max_value:\n",
        "          max_value = num\n",
        "\n",
        "    # numbers 리스트를 순회\n",
        "    for num in numbers:\n",
        "        update_min_max(num)\n",
        "\n",
        "    # min_value를 return하는 함수 선언\n",
        "    def get_min():\n",
        "        return min_value\n",
        "\n",
        "    # max_value를 return하는 함수 선언\n",
        "    def get_max():\n",
        "        return max_value\n",
        "\n",
        "    return get_min, get_max\n",
        "\n",
        "\n",
        "numbers = [10, 5, 8, 12, 3, 7]\n",
        "find_min, find_max = find_min_max(numbers)\n",
        "\n",
        "print(\"최솟값:\", find_min())\n",
        "print(\"최댓값:\", find_max())\n",
        "\n"
      ],
      "metadata": {
        "id": "oF_uYyS2jjPj"
      },
      "execution_count": null,
      "outputs": []
    },
    {
      "cell_type": "markdown",
      "source": [
        "## [ 중간 과정 ]\n",
        "윤선웅 : 이걸 왜 굳이 클로저로 해야 하는지? 다른 효율적인 방법이 있을 것 같다. 그냥 반복문, 또는 max min 내장함수를 이용하면 되는 것을.\n",
        "\n",
        "GPT의 답변:\n",
        "1. 상태 유지 및 캡슐화: 클로저를 사용하면 함수가 실행된 이후에도 상태(여기서는 min_value와 max_value)를 유지할 수 있습니다. 클로저를 통해 이 상태를 외부에 노출하지 않고도 접근할 수 있습니다. 이는 데이터 캡슐화와 은닉화를 제공하여 코드의 무결성을 유지하는 데 도움이 됩니다.\n",
        "\n",
        "2. 유연성 제공: 클로저를 사용하면 함수가 값을 계산하는 방식을 더 유연하게 만들 수 있습니다. 예를 들어, 새로운 값을 추가하거나 기존 값을 변경할 때마다 최소값과 최대값을 동적으로 업데이트할 수 있습니다. 함수형 프로그래밍 스타일: 클로저를 사용하면 함수형 프로그래밍 스타일을 따를 수 있습니다. 함수형 프로그래밍에서는 상태 변화를 피하고, 순수 함수를 선호하며, 클로저는 이러한 스타일을 잘 지원합니다."
      ],
      "metadata": {
        "id": "3HNogr5VPoZm"
      }
    },
    {
      "cell_type": "code",
      "source": [
        "# 데코레이터 함수 선언 및 매개변수로 함수를 받는다\n",
        "def counter(fn):\n",
        "  count = 0 # 몇번 실행되었는지 count하는 변수\n",
        "\n",
        "  # 결과를 출력하는 클로저 함수 선언\n",
        "  def print_counter():\n",
        "    # 매개변수로 받은 함수 실행 (say_hello)\n",
        "    fn()\n",
        "    nonlocal count # 외부 함수의 count 변수에 접근하기 위해 nonlocal 키워드를 사용\n",
        "    count += 1\n",
        "    print(f'{fn.__name__} 실행횟수: {count}')\n",
        "\n",
        "  return print_counter # 데코레이터가 감싸고 있는 내부 함수 반환\n",
        "\n",
        "@counter\n",
        "def say_hello():\n",
        "    print(\"Hello Aiffel!\")\n",
        "\n",
        "for i in range(5):\n",
        "  say_hello()\n"
      ],
      "metadata": {
        "id": "x6fP4S27DG01"
      },
      "execution_count": null,
      "outputs": []
    },
    {
      "cell_type": "markdown",
      "source": [
        "\n",
        "## [ 중간 고민 과정 ]\n",
        "ChatGPT가 제시한 코드와 비교했을 때, 아래와 같은 방법론적인 차이가 있었습니다.\n",
        "1. 호출 횟수 count를 증가시키고 난 후 fn()을 호출할 것이냐,\n",
        "```\n",
        "    def print_counter():\n",
        "        nonlocal count\n",
        "        count += 1\n",
        "        fn()\n",
        "        print(f'say_hello 실행횟수: {count}')\n",
        "```\n",
        "2. 그 반대 순서로 할 것이냐\n",
        "```\n",
        "    def print_counter():\n",
        "        fn()\n",
        "        nonlocal count\n",
        "        count += 1\n",
        "        print(f'{fn.__name__} 실행횟수: {count}')\n",
        "```\n",
        "윤선웅님께서는 1. 호출 횟수를 함수 실행 전에 증가시키고, 함수 실행 후에 결과를 출력하는 방식을 택하셨습니다.\n",
        "\n",
        "GPT는 둘 다 맞는 접근법이라는 답을 주었습니다.\n",
        "\n",
        "\n",
        "\n",
        "##[ 회고 ]\n",
        "#### 컴알못인 소다흰의 질문\n",
        "Q> 이러한 코드를 작동함에 있어, fn.__name__ 라는 식으로 출력하는 방식, 또는 say hello 라고 함수 이름을 바로 집어넣어주는 방식, 두가지의 결과값이 같다고 하더라도 코드가 1조만개 이상 늘어날 경우에는 속도 차이가 생기지 않는가?\n",
        "```\n",
        "print(f'say_hello 실행횟수: {count}')\n",
        "vs\n",
        "print(f'{fn.__name__} 실행횟수: {count}')\n",
        "```\n",
        "A> 윤선웅 님의 대답 'say hello' 라고 함수 이름을 바로 집어넣는 방식이 속도가 조금 빠를 수는 있으나 이후 함수 이름이 변경될 가능성을 고려한다면 {fn.\\__name__\\} 라고 지정해주는 편이 낫다."
      ],
      "metadata": {
        "id": "ifL8_91LJ9lH"
      }
    }
  ]
}